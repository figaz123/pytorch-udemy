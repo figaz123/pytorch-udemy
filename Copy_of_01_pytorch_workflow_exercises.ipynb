{
  "nbformat": 4,
  "nbformat_minor": 0,
  "metadata": {
    "colab": {
      "provenance": [],
      "include_colab_link": true
    },
    "kernelspec": {
      "name": "python3",
      "display_name": "Python 3"
    },
    "language_info": {
      "name": "python"
    },
    "accelerator": "GPU"
  },
  "cells": [
    {
      "cell_type": "markdown",
      "metadata": {
        "id": "view-in-github",
        "colab_type": "text"
      },
      "source": [
        "<a href=\"https://colab.research.google.com/github/figaz123/pytorch-udemy/blob/main/Copy_of_01_pytorch_workflow_exercises.ipynb\" target=\"_parent\"><img src=\"https://colab.research.google.com/assets/colab-badge.svg\" alt=\"Open In Colab\"/></a>"
      ]
    },
    {
      "cell_type": "markdown",
      "source": [
        "# 01. PyTorch Workflow Exercise Template\n",
        "\n",
        "The following is a template for the PyTorch workflow exercises.\n",
        "\n",
        "It's only starter code and it's your job to fill in the blanks.\n",
        "\n",
        "Because of the flexibility of PyTorch, there may be more than one way to answer the question.\n",
        "\n",
        "Don't worry about trying to be *right* just try writing code that suffices the question.\n",
        "\n",
        "You can see one form of [solutions on GitHub](https://github.com/mrdbourke/pytorch-deep-learning/tree/main/extras/solutions) (but try the exercises below yourself first!)."
      ],
      "metadata": {
        "id": "N8LsPXZti9Sw"
      }
    },
    {
      "cell_type": "code",
      "source": [
        "# Import necessary libraries\n",
        "import torch\n",
        "import numpy as np\n",
        "import matplotlib.pyplot as plt\n",
        "from torch import nn"
      ],
      "metadata": {
        "id": "Glu2fM4dkNlx"
      },
      "execution_count": 1,
      "outputs": []
    },
    {
      "cell_type": "code",
      "source": [
        "# Setup device-agnostic code\n",
        "cuda = torch.device(\"cuda:0\")\n",
        "cuda"
      ],
      "metadata": {
        "id": "LqKhXY26m31s",
        "colab": {
          "base_uri": "https://localhost:8080/"
        },
        "outputId": "0fe920bf-2073-47e3-8a73-a2fe46dadc08"
      },
      "execution_count": 2,
      "outputs": [
        {
          "output_type": "execute_result",
          "data": {
            "text/plain": [
              "device(type='cuda', index=0)"
            ]
          },
          "metadata": {},
          "execution_count": 2
        }
      ]
    },
    {
      "cell_type": "markdown",
      "source": [
        "## 1. Create a straight line dataset using the linear regression formula (`weight * X + bias`).\n",
        "  * Set `weight=0.3` and `bias=0.9` there should be at least 100 datapoints total.\n",
        "  * Split the data into 80% training, 20% testing.\n",
        "  * Plot the training and testing data so it becomes visual.\n",
        "\n",
        "Your output of the below cell should look something like:\n",
        "```\n",
        "Number of X samples: 100\n",
        "Number of y samples: 100\n",
        "First 10 X & y samples:\n",
        "X: tensor([0.0000, 0.0100, 0.0200, 0.0300, 0.0400, 0.0500, 0.0600, 0.0700, 0.0800,\n",
        "        0.0900])\n",
        "y: tensor([0.9000, 0.9030, 0.9060, 0.9090, 0.9120, 0.9150, 0.9180, 0.9210, 0.9240,\n",
        "        0.9270])\n",
        "```\n",
        "\n",
        "Of course the numbers in `X` and `y` may be different but ideally they're created using the linear regression formula."
      ],
      "metadata": {
        "id": "g7HUhxCxjeBx"
      }
    },
    {
      "cell_type": "code",
      "source": [
        "# Create the data parameters\n",
        "weights = 0.3\n",
        "bias = 0.9\n",
        "#mke dummy data\n",
        "start = 0\n",
        "end = 1\n",
        "step = 0.01\n",
        "\n",
        "# Make X and y using linear regression feature\n",
        "X = torch.arange(start, end, step).unsqueeze(dim=1)\n",
        "y = weights * X + bias\n",
        "print(f\"Number of X samples: {len(X)}\")\n",
        "print(f\"Number of y samples: {len(y)}\")\n",
        "print(f\"First 10 X & y samples:\\nX: {X[:10]}\\ny: {y[:10]}\")"
      ],
      "metadata": {
        "id": "KbDG5MV7jhvE",
        "colab": {
          "base_uri": "https://localhost:8080/"
        },
        "outputId": "9283059b-fd36-4ba4-8fba-a6cbd1b69d22"
      },
      "execution_count": 3,
      "outputs": [
        {
          "output_type": "stream",
          "name": "stdout",
          "text": [
            "Number of X samples: 100\n",
            "Number of y samples: 100\n",
            "First 10 X & y samples:\n",
            "X: tensor([[0.0000],\n",
            "        [0.0100],\n",
            "        [0.0200],\n",
            "        [0.0300],\n",
            "        [0.0400],\n",
            "        [0.0500],\n",
            "        [0.0600],\n",
            "        [0.0700],\n",
            "        [0.0800],\n",
            "        [0.0900]])\n",
            "y: tensor([[0.9000],\n",
            "        [0.9030],\n",
            "        [0.9060],\n",
            "        [0.9090],\n",
            "        [0.9120],\n",
            "        [0.9150],\n",
            "        [0.9180],\n",
            "        [0.9210],\n",
            "        [0.9240],\n",
            "        [0.9270]])\n"
          ]
        }
      ]
    },
    {
      "cell_type": "code",
      "source": [
        "print(y[90:])"
      ],
      "metadata": {
        "colab": {
          "base_uri": "https://localhost:8080/"
        },
        "id": "gpuveY4_Znmi",
        "outputId": "a61ede7e-1591-41e6-9abd-c82b790158a0"
      },
      "execution_count": 4,
      "outputs": [
        {
          "output_type": "stream",
          "name": "stdout",
          "text": [
            "tensor([[1.1700],\n",
            "        [1.1730],\n",
            "        [1.1760],\n",
            "        [1.1790],\n",
            "        [1.1820],\n",
            "        [1.1850],\n",
            "        [1.1880],\n",
            "        [1.1910],\n",
            "        [1.1940],\n",
            "        [1.1970]])\n"
          ]
        }
      ]
    },
    {
      "cell_type": "code",
      "source": [
        "# Split the data into training and testing\n",
        "train_data = int(0.8 * len(X))\n",
        "\n",
        "X_train, y_train = X[:train_data], y[:train_data]\n",
        "x_test, y_test = X[train_data:], y[train_data:]\n",
        "len(X_train), len(y_train), len(x_test), len(y_test)"
      ],
      "metadata": {
        "id": "GlwtT1djkmLw",
        "colab": {
          "base_uri": "https://localhost:8080/"
        },
        "outputId": "a534dc49-7882-4449-d28b-e825f49ca6bd"
      },
      "execution_count": 5,
      "outputs": [
        {
          "output_type": "execute_result",
          "data": {
            "text/plain": [
              "(80, 80, 20, 20)"
            ]
          },
          "metadata": {},
          "execution_count": 5
        }
      ]
    },
    {
      "cell_type": "code",
      "source": [
        "# Plot the training and testing data\n",
        "def linear_plot(train_data=X_train,\n",
        "                train_label=y_train,\n",
        "                test_data=x_test,\n",
        "                test_label = y_test,\n",
        "                predictions = None):\n",
        "\n",
        "  plt.scatter(train_data, train_label, c=\"g\", s=6, label=\"train data\")\n",
        "  plt.scatter(test_data, test_label, c=\"b\", s=6, label=\"test data\")\n",
        "\n",
        "  if predictions is not None:\n",
        "    plt.scatter(test_data, predictions, c=\"r\", s=6, label=\"prediction\")\n",
        "\n",
        "  plt.legend(prop={\"size\": 14})\n",
        "  plt.figure(figsize=(14, 10))\n",
        "  plt.show()\n",
        "\n",
        "\n",
        "linear_plot()"
      ],
      "metadata": {
        "id": "29iQZFNhlYJ-",
        "colab": {
          "base_uri": "https://localhost:8080/",
          "height": 448
        },
        "outputId": "e490b42e-14b9-4ffe-cfd7-8a89f0d7d4d6"
      },
      "execution_count": 6,
      "outputs": [
        {
          "output_type": "display_data",
          "data": {
            "text/plain": [
              "<Figure size 640x480 with 1 Axes>"
            ],
            "image/png": "[encoded data removed]"
          },
          "metadata": {}
        },
        {
          "output_type": "display_data",
          "data": {
            "text/plain": [
              "<Figure size 1400x1000 with 0 Axes>"
            ]
          },
          "metadata": {}
        }
      ]
    },
    {
      "cell_type": "markdown",
      "source": [
        "## 2. Build a PyTorch model by subclassing `nn.Module`.\n",
        "  * Inside should be a randomly initialized `nn.Parameter()` with `requires_grad=True`, one for `weights` and one for `bias`.\n",
        "  * Implement the `forward()` method to compute the linear regression function you used to create the dataset in 1.\n",
        "  * Once you've constructed the model, make an instance of it and check its `state_dict()`.\n",
        "  * **Note:** If you'd like to use `nn.Linear()` instead of `nn.Parameter()` you can."
      ],
      "metadata": {
        "id": "ImZoe3v8jif8"
      }
    },
    {
      "cell_type": "code",
      "source": [
        "# Create PyTorch linear regression model by subclassing nn.Module\n",
        "\n",
        "#class of Lineaar regression from scratch\n",
        "class LinearRegression(nn.Module):\n",
        "  def __init__(self):\n",
        "    super().__init__()\n",
        "    self.weights = nn.Parameter(torch.randn(1, dtype=torch.float),\n",
        "                                requires_grad=True)\n",
        "    self.bias = nn.Parameter(torch.randn(1, dtype=torch.float),\n",
        "                             requires_grad=True)\n",
        "  def forward(self, x: torch.Tensor) -> torch.Tensor:\n",
        "    Linear_formula = self.weights * x + self.bias\n",
        "    return Linear_formula\n",
        "\n",
        "#class of linear regression from torch module\n",
        "class LinearRegressionVer2(nn.Module):\n",
        "  def __init__(self):\n",
        "    super().__init__()\n",
        "    self.Linear_layer = nn.Linear(in_features=1,\n",
        "                                  out_features=1)\n",
        "\n",
        "  def forward(self, x: torch.Tensor) -> torch.Tensor:\n",
        "    return self.Linear_layer(x)\n",
        "\n"
      ],
      "metadata": {
        "id": "qzd__Y5rjtB8"
      },
      "execution_count": 7,
      "outputs": []
    },
    {
      "cell_type": "code",
      "source": [
        "# Instantiate the model and put it to the target device\n",
        "torch.manual_seed(42)\n",
        "model_1 = LinearRegression()\n",
        "model_2 = LinearRegressionVer2()\n",
        "print(model_1)\n",
        "print(model_1.state_dict(),\"\\n\")\n",
        "\n",
        "print(model_2)\n",
        "print(model_2.state_dict())"
      ],
      "metadata": {
        "id": "5LdcDnmOmyQ2",
        "colab": {
          "base_uri": "https://localhost:8080/"
        },
        "outputId": "0984cc5f-cb4a-4f8c-a68d-bfc5b0517ea0"
      },
      "execution_count": 8,
      "outputs": [
        {
          "output_type": "stream",
          "name": "stdout",
          "text": [
            "LinearRegression()\n",
            "OrderedDict([('weights', tensor([0.3367])), ('bias', tensor([0.1288]))]) \n",
            "\n",
            "LinearRegressionVer2(\n",
            "  (Linear_layer): Linear(in_features=1, out_features=1, bias=True)\n",
            ")\n",
            "OrderedDict([('Linear_layer.weight', tensor([[-0.2191]])), ('Linear_layer.bias', tensor([0.2018]))])\n"
          ]
        }
      ]
    },
    {
      "cell_type": "markdown",
      "source": [
        "## 3. Create a loss function and optimizer using `nn.L1Loss()` and `torch.optim.SGD(params, lr)` respectively.\n",
        "  * Set the learning rate of the optimizer to be 0.01 and the parameters to optimize should be the model parameters from the model you created in 2.\n",
        "  * Write a training loop to perform the appropriate training steps for 300 epochs.\n",
        "  * The training loop should test the model on the test dataset every 20 epochs."
      ],
      "metadata": {
        "id": "G6nYOrJhjtfu"
      }
    },
    {
      "cell_type": "code",
      "source": [
        "# Create the loss function and optimizer\n",
        "params = model_1.parameters()\n",
        "lr = 0.01\n",
        "\n",
        "loss_fn = nn.L1Loss()\n",
        "optimizer = torch.optim.SGD(params=params, lr=lr)"
      ],
      "metadata": {
        "id": "ltvoZ-FWjv1j"
      },
      "execution_count": 9,
      "outputs": []
    },
    {
      "cell_type": "code",
      "source": [
        "model_1.to(cuda)\n",
        "next(model_1.parameters()).device"
      ],
      "metadata": {
        "colab": {
          "base_uri": "https://localhost:8080/"
        },
        "id": "r7SNznRfEbBs",
        "outputId": "8a1b2760-dc54-4510-83d3-53afd73d92bc"
      },
      "execution_count": 10,
      "outputs": [
        {
          "output_type": "execute_result",
          "data": {
            "text/plain": [
              "device(type='cuda', index=0)"
            ]
          },
          "metadata": {},
          "execution_count": 10
        }
      ]
    },
    {
      "cell_type": "code",
      "source": [
        "torch.manual_seed(42)\n",
        "\n",
        "# Training loop\n",
        "epoch_count = []\n",
        "train_loss_values=[]\n",
        "test_loss_values = []\n",
        "\n",
        "# Train model for 300 epochs\n",
        "epochs = 300\n",
        "\n",
        "# Send data to target device\n",
        "X_train = X_train.to(cuda)\n",
        "x_test = x_test.to(cuda)\n",
        "y_train = y_train.to(cuda)\n",
        "y_test = y_test.to(cuda)\n",
        "\n",
        "for epoch in range(epochs):\n",
        "  ### Training\n",
        "\n",
        "  # Put model in train mode\n",
        "  model_1.train()\n",
        "\n",
        "  # 1. Forward pass\n",
        "  y_pred = model_1(X_train)\n",
        "\n",
        "  # 2. Calculate loss\n",
        "  train_loss = loss_fn(y_pred, y_train)\n",
        "\n",
        "  # 3. Zero gradients\n",
        "  optimizer.zero_grad()\n",
        "\n",
        "\n",
        "  # 4. Backpropagation\n",
        "  train_loss.backward()\n",
        "\n",
        "\n",
        "  # 5. Step the optimizer\n",
        "  optimizer.step()\n",
        "\n",
        "  ### Perform testing every 20 epochs\n",
        "\n",
        "  # Put model in evaluation mode and setup inference context\n",
        "  model_1.eval()\n",
        "\n",
        "  with torch.inference_mode():\n",
        "    # 1. Forward pass\n",
        "    test_pred = model_1(x_test)\n",
        "    # 2. Calculate test loss\n",
        "    test_loss = loss_fn(test_pred, y_test.type(torch.float))\n",
        "\n",
        "    if epoch % 20 == 0:\n",
        "      epoch_count.append(epoch)\n",
        "      test_loss_values.append(test_loss.cpu().detach().numpy())\n",
        "      train_loss_values.append(train_loss.cpu().detach().numpy())\n",
        "      # Print out what's happening\n",
        "      print(f\"Epoch: {epoch} | Train loss: {train_loss:.3f} | Test loss: {test_loss:.3f}\")"
      ],
      "metadata": {
        "id": "xpE83NvNnkdV",
        "colab": {
          "base_uri": "https://localhost:8080/"
        },
        "outputId": "82952c03-b11d-463e-b473-da5fb38e3247"
      },
      "execution_count": 11,
      "outputs": [
        {
          "output_type": "stream",
          "name": "stdout",
          "text": [
            "Epoch: 0 | Train loss: 0.757 | Test loss: 0.725\n",
            "Epoch: 20 | Train loss: 0.525 | Test loss: 0.454\n",
            "Epoch: 40 | Train loss: 0.294 | Test loss: 0.183\n",
            "Epoch: 60 | Train loss: 0.077 | Test loss: 0.073\n",
            "Epoch: 80 | Train loss: 0.053 | Test loss: 0.116\n",
            "Epoch: 100 | Train loss: 0.046 | Test loss: 0.105\n",
            "Epoch: 120 | Train loss: 0.039 | Test loss: 0.089\n",
            "Epoch: 140 | Train loss: 0.032 | Test loss: 0.074\n",
            "Epoch: 160 | Train loss: 0.025 | Test loss: 0.058\n",
            "Epoch: 180 | Train loss: 0.018 | Test loss: 0.042\n",
            "Epoch: 200 | Train loss: 0.011 | Test loss: 0.026\n",
            "Epoch: 220 | Train loss: 0.004 | Test loss: 0.009\n",
            "Epoch: 240 | Train loss: 0.004 | Test loss: 0.006\n",
            "Epoch: 260 | Train loss: 0.004 | Test loss: 0.006\n",
            "Epoch: 280 | Train loss: 0.004 | Test loss: 0.006\n"
          ]
        }
      ]
    },
    {
      "cell_type": "code",
      "source": [
        "plt.plot(epoch_count, test_loss_values, label=\"test_loss_values\")\n",
        "plt.plot(epoch_count, train_loss_values, label=\"train_loss_values\")\n",
        "plt.title(\"Training and test loss curves\")\n",
        "plt.xlabel(\"epochs\")\n",
        "plt.ylabel(\"loss\")\n",
        "plt.legend()\n",
        "plt.show()"
      ],
      "metadata": {
        "colab": {
          "base_uri": "https://localhost:8080/",
          "height": 472
        },
        "id": "RJKw3K07PzYm",
        "outputId": "3b106239-e368-4ad6-b0ae-cc1c25f7be21"
      },
      "execution_count": 12,
      "outputs": [
        {
          "output_type": "display_data",
          "data": {
            "text/plain": [
              "<Figure size 640x480 with 1 Axes>"
            ],
            "image/png": "[encoded data removed]"
          },
          "metadata": {}
        }
      ]
    },
    {
      "cell_type": "markdown",
      "source": [
        "## 4. Make predictions with the trained model on the test data.\n",
        "  * Visualize these predictions against the original training and testing data (**note:** you may need to make sure the predictions are *not* on the GPU if you want to use non-CUDA-enabled libraries such as matplotlib to plot)."
      ],
      "metadata": {
        "id": "x4j4TM18jwa7"
      }
    },
    {
      "cell_type": "code",
      "source": [
        "print(f\"following values for weights and bias:\\n{model_1.state_dict()}\\n\")\n",
        "print(f\"original values of weights {weights} and bias {bias}\")"
      ],
      "metadata": {
        "colab": {
          "base_uri": "https://localhost:8080/"
        },
        "id": "4DiNyJL9YbRH",
        "outputId": "d0f0c262-4d77-42c2-de3a-9481f407eecb"
      },
      "execution_count": 13,
      "outputs": [
        {
          "output_type": "stream",
          "name": "stdout",
          "text": [
            "following values for weights and bias:\n",
            "OrderedDict([('weights', tensor([0.3067], device='cuda:0')), ('bias', tensor([0.9011], device='cuda:0'))])\n",
            "\n",
            "original values of weights 0.3 and bias 0.9\n"
          ]
        }
      ]
    },
    {
      "cell_type": "code",
      "source": [
        "# Make predictions with the model\n",
        "model_1.eval()\n",
        "with torch.inference_mode():\n",
        "  x_testing = x_test\n",
        "  y_pred = model_1(x_testing)\n",
        "print(f\"these are prediction value : {y_pred}\\n\")\n",
        "print(f\"these are real value : {y_test}\\n\")"
      ],
      "metadata": {
        "id": "bbMPK5Qjjyx_",
        "colab": {
          "base_uri": "https://localhost:8080/"
        },
        "outputId": "0f55f6da-1798-43e0-8be3-d262aafbf3b2"
      },
      "execution_count": 14,
      "outputs": [
        {
          "output_type": "stream",
          "name": "stdout",
          "text": [
            "these are prediction value : tensor([[1.1464],\n",
            "        [1.1495],\n",
            "        [1.1525],\n",
            "        [1.1556],\n",
            "        [1.1587],\n",
            "        [1.1617],\n",
            "        [1.1648],\n",
            "        [1.1679],\n",
            "        [1.1709],\n",
            "        [1.1740],\n",
            "        [1.1771],\n",
            "        [1.1801],\n",
            "        [1.1832],\n",
            "        [1.1863],\n",
            "        [1.1893],\n",
            "        [1.1924],\n",
            "        [1.1955],\n",
            "        [1.1985],\n",
            "        [1.2016],\n",
            "        [1.2047]], device='cuda:0')\n",
            "\n",
            "these are real value : tensor([[1.1400],\n",
            "        [1.1430],\n",
            "        [1.1460],\n",
            "        [1.1490],\n",
            "        [1.1520],\n",
            "        [1.1550],\n",
            "        [1.1580],\n",
            "        [1.1610],\n",
            "        [1.1640],\n",
            "        [1.1670],\n",
            "        [1.1700],\n",
            "        [1.1730],\n",
            "        [1.1760],\n",
            "        [1.1790],\n",
            "        [1.1820],\n",
            "        [1.1850],\n",
            "        [1.1880],\n",
            "        [1.1910],\n",
            "        [1.1940],\n",
            "        [1.1970]], device='cuda:0')\n",
            "\n"
          ]
        }
      ]
    },
    {
      "cell_type": "code",
      "source": [
        "# Plot the predictions (these may need to be on a specific device)\n",
        "linear_plot(predictions=y_pred.cpu())"
      ],
      "metadata": {
        "id": "K3BdmQaDpFo8",
        "colab": {
          "base_uri": "https://localhost:8080/",
          "height": 448
        },
        "outputId": "705ec091-4ae3-43a6-ada7-b64f2e7b49b6"
      },
      "execution_count": 15,
      "outputs": [
        {
          "output_type": "display_data",
          "data": {
            "text/plain": [
              "<Figure size 640x480 with 1 Axes>"
            ],
            "image/png": "[encoded data removed]"
          },
          "metadata": {}
        },
        {
          "output_type": "display_data",
          "data": {
            "text/plain": [
              "<Figure size 1400x1000 with 0 Axes>"
            ]
          },
          "metadata": {}
        }
      ]
    },
    {
      "cell_type": "markdown",
      "source": [
        "## 5. Save your trained model's `state_dict()` to file.\n",
        "  * Create a new instance of your model class you made in 2. and load in the `state_dict()` you just saved to it.\n",
        "  * Perform predictions on your test data with the loaded model and confirm they match the original model predictions from 4."
      ],
      "metadata": {
        "id": "s2OnlMWKjzX8"
      }
    },
    {
      "cell_type": "code",
      "source": [
        "from pathlib import Path\n",
        "\n",
        "# 1. Create models directory\n",
        "PATH = Path(\"models\")\n",
        "PATH.mkdir(parents=True, exist_ok =True)\n",
        "\n",
        "# 2. Create model save path\n",
        "NAME = \"01_pytorch_exercise.pth\"\n",
        "MODEL_SAVE = PATH / NAME\n",
        "\n",
        "# 3. Save the model state dict\n",
        "print(f\"saving model to {MODEL_SAVE}\")\n",
        "torch.save(obj=model_1.state_dict(),\n",
        "           f=MODEL_SAVE)"
      ],
      "metadata": {
        "id": "hgxhgD14qr-i",
        "colab": {
          "base_uri": "https://localhost:8080/"
        },
        "outputId": "cc47ad4a-24e7-4da4-f88a-4e391f32d476"
      },
      "execution_count": 16,
      "outputs": [
        {
          "output_type": "stream",
          "name": "stdout",
          "text": [
            "saving model to models/01_pytorch_exercise.pth\n"
          ]
        }
      ]
    },
    {
      "cell_type": "code",
      "source": [
        "#check saved path model\n",
        "!ls -l models/01_pytorch_exercise.pth"
      ],
      "metadata": {
        "colab": {
          "base_uri": "https://localhost:8080/"
        },
        "id": "-QupVFzqc0VR",
        "outputId": "4ebc3f49-7073-4bb4-98a9-91e2374a7c16"
      },
      "execution_count": 17,
      "outputs": [
        {
          "output_type": "stream",
          "name": "stdout",
          "text": [
            "-rw-r--r-- 1 root root 1568 Dec 26 11:17 models/01_pytorch_exercise.pth\n"
          ]
        }
      ]
    },
    {
      "cell_type": "code",
      "source": [
        "# Create new instance of model and load saved state dict (make sure to put it on the target device)\n",
        "load_model1= LinearRegression()\n",
        "\n",
        "load_model1.load_state_dict(torch.load(f=MODEL_SAVE))\n",
        "load_model1"
      ],
      "metadata": {
        "id": "P9vTgiLRrJ7T",
        "colab": {
          "base_uri": "https://localhost:8080/"
        },
        "outputId": "a871919f-e2ab-48aa-9456-1206fe734b16"
      },
      "execution_count": 18,
      "outputs": [
        {
          "output_type": "execute_result",
          "data": {
            "text/plain": [
              "LinearRegression()"
            ]
          },
          "metadata": {},
          "execution_count": 18
        }
      ]
    },
    {
      "cell_type": "code",
      "source": [
        "# Make predictions with loaded model and compare them to the previous\n",
        "load_model1.eval()\n",
        "with torch.inference_mode():\n",
        "  x_testing = x_test.cpu()\n",
        "  loaded_model = load_model1(x_testing)\n",
        "  loaded_model\n",
        "\n",
        "y_pred.cpu() == loaded_model"
      ],
      "metadata": {
        "id": "8UGX3VebrVtI",
        "colab": {
          "base_uri": "https://localhost:8080/"
        },
        "outputId": "fa98cc95-c01a-431c-9444-f0bdf4144390"
      },
      "execution_count": 19,
      "outputs": [
        {
          "output_type": "execute_result",
          "data": {
            "text/plain": [
              "tensor([[True],\n",
              "        [True],\n",
              "        [True],\n",
              "        [True],\n",
              "        [True],\n",
              "        [True],\n",
              "        [True],\n",
              "        [True],\n",
              "        [True],\n",
              "        [True],\n",
              "        [True],\n",
              "        [True],\n",
              "        [True],\n",
              "        [True],\n",
              "        [True],\n",
              "        [True],\n",
              "        [True],\n",
              "        [True],\n",
              "        [True],\n",
              "        [True]])"
            ]
          },
          "metadata": {},
          "execution_count": 19
        }
      ]
    },
    {
      "cell_type": "markdown",
      "source": [
        "# try with linear regression module\n"
      ],
      "metadata": {
        "id": "WsGr6ni8xgpN"
      }
    },
    {
      "cell_type": "code",
      "source": [
        "# Create the loss function and optimizer\n",
        "params2 = model_2.parameters()\n",
        "lr2 = 0.01\n",
        "\n",
        "loss_fn2 = nn.L1Loss()\n",
        "optimizer2 = torch.optim.SGD(params=params2, lr=lr2)"
      ],
      "metadata": {
        "id": "6ahwNvvaxlic"
      },
      "execution_count": 20,
      "outputs": []
    },
    {
      "cell_type": "code",
      "source": [
        "model_2.to(cuda)\n",
        "next(model_2.parameters()).device"
      ],
      "metadata": {
        "colab": {
          "base_uri": "https://localhost:8080/"
        },
        "id": "iAUlFn4fxyu_",
        "outputId": "c4feb38d-ea23-4ed9-c1a5-695aa148f692"
      },
      "execution_count": 21,
      "outputs": [
        {
          "output_type": "execute_result",
          "data": {
            "text/plain": [
              "device(type='cuda', index=0)"
            ]
          },
          "metadata": {},
          "execution_count": 21
        }
      ]
    },
    {
      "cell_type": "code",
      "source": [
        "torch.manual_seed(42)\n",
        "\n",
        "# Training loop\n",
        "epoch_count2 = []\n",
        "train_loss_values2=[]\n",
        "test_loss_values2 = []\n",
        "\n",
        "# Train model for 300 epochs\n",
        "epochs = 300\n",
        "\n",
        "# Send data to target device\n",
        "X_train2 = X_train.to(cuda)\n",
        "x_test2 = x_test.to(cuda)\n",
        "y_train2 = y_train.to(cuda)\n",
        "y_test2 = y_test.to(cuda)\n",
        "\n",
        "for epoch in range(epochs):\n",
        "  ### Training\n",
        "\n",
        "  # Put model in train mode\n",
        "  model_2.train()\n",
        "\n",
        "  # 1. Forward pass\n",
        "  y_pred2 = model_2(X_train2)\n",
        "\n",
        "  # 2. Calculate loss\n",
        "  train_loss2 = loss_fn2(y_pred2, y_train2)\n",
        "\n",
        "  # 3. Zero gradients\n",
        "  optimizer2.zero_grad()\n",
        "\n",
        "\n",
        "  # 4. Backpropagation\n",
        "  train_loss2.backward()\n",
        "\n",
        "\n",
        "  # 5. Step the optimizer\n",
        "  optimizer.step()\n",
        "\n",
        "  ### Perform testing every 20 epochs\n",
        "\n",
        "  # Put model in evaluation mode and setup inference context\n",
        "  model_2.eval()\n",
        "\n",
        "  with torch.inference_mode():\n",
        "    # 1. Forward pass\n",
        "    test_pred2 = model_2(x_test2)\n",
        "    # 2. Calculate test loss\n",
        "    test_loss2 = loss_fn(test_pred2, y_test2.type(torch.float))\n",
        "\n",
        "    if epoch % 20 == 0:\n",
        "      epoch_count2.append(epoch)\n",
        "      test_loss_values2.append(test_loss2.cpu().detach().numpy())\n",
        "      train_loss_values2.append(train_loss2.cpu().detach().numpy())\n",
        "      # Print out what's happening\n",
        "      print(f\"Epoch: {epoch} | Train loss: {train_loss2:.3f} | Test loss: {test_loss2:.3f}\")"
      ],
      "metadata": {
        "colab": {
          "base_uri": "https://localhost:8080/"
        },
        "id": "kESYR4jux1Tx",
        "outputId": "f5222c4b-aff4-4673-88d2-8e27848d9d82"
      },
      "execution_count": 22,
      "outputs": [
        {
          "output_type": "stream",
          "name": "stdout",
          "text": [
            "Epoch: 0 | Train loss: 0.903 | Test loss: 1.149\n",
            "Epoch: 20 | Train loss: 0.672 | Test loss: 0.879\n",
            "Epoch: 40 | Train loss: 0.441 | Test loss: 0.608\n",
            "Epoch: 60 | Train loss: 0.210 | Test loss: 0.337\n",
            "Epoch: 80 | Train loss: 0.044 | Test loss: 0.119\n",
            "Epoch: 100 | Train loss: 0.033 | Test loss: 0.077\n",
            "Epoch: 120 | Train loss: 0.026 | Test loss: 0.061\n",
            "Epoch: 140 | Train loss: 0.019 | Test loss: 0.045\n",
            "Epoch: 160 | Train loss: 0.012 | Test loss: 0.028\n",
            "Epoch: 180 | Train loss: 0.006 | Test loss: 0.012\n",
            "Epoch: 200 | Train loss: 0.006 | Test loss: 0.004\n",
            "Epoch: 220 | Train loss: 0.006 | Test loss: 0.004\n",
            "Epoch: 240 | Train loss: 0.006 | Test loss: 0.004\n",
            "Epoch: 260 | Train loss: 0.006 | Test loss: 0.004\n",
            "Epoch: 280 | Train loss: 0.006 | Test loss: 0.004\n"
          ]
        }
      ]
    },
    {
      "cell_type": "code",
      "source": [
        "plt.plot(epoch_count2, test_loss_values2, label=\"test_loss_values\")\n",
        "plt.plot(epoch_count2, train_loss_values2, label=\"train_loss_values\")\n",
        "plt.title(\"Training and test loss curves\")\n",
        "plt.xlabel(\"epochs\")\n",
        "plt.ylabel(\"loss\")\n",
        "plt.legend()\n",
        "plt.show()"
      ],
      "metadata": {
        "colab": {
          "base_uri": "https://localhost:8080/",
          "height": 472
        },
        "id": "wYAfPhgty7VX",
        "outputId": "464f33c3-74bf-4c18-825e-5f7f0b60bf0a"
      },
      "execution_count": 23,
      "outputs": [
        {
          "output_type": "display_data",
          "data": {
            "text/plain": [
              "<Figure size 640x480 with 1 Axes>"
            ],
            "image/png": "[encoded data removed]"
          },
          "metadata": {}
        }
      ]
    },
    {
      "cell_type": "code",
      "source": [
        "print(f\"following values for weights and bias:\\n{model_2.state_dict()}\\n\")\n",
        "print(f\"original values of weights {weights} and bias {bias}\")"
      ],
      "metadata": {
        "colab": {
          "base_uri": "https://localhost:8080/"
        },
        "id": "UT9fiDv4zAq-",
        "outputId": "ce154c4b-e035-4dfd-ead1-f9bcb08e7459"
      },
      "execution_count": 24,
      "outputs": [
        {
          "output_type": "stream",
          "name": "stdout",
          "text": [
            "following values for weights and bias:\n",
            "OrderedDict([('Linear_layer.weight', tensor([[0.2931]], device='cuda:0')), ('Linear_layer.bias', tensor([0.8968], device='cuda:0'))])\n",
            "\n",
            "original values of weights 0.3 and bias 0.9\n"
          ]
        }
      ]
    },
    {
      "cell_type": "code",
      "source": [
        "# Make predictions with the model\n",
        "model_2.eval()\n",
        "with torch.inference_mode():\n",
        "  x_testing = x_test2\n",
        "  y_pred2 = model_2(x_testing)\n",
        "print(f\"these are prediction value : {y_pred2}\\n\")\n",
        "print(f\"these are real value : {y_test2}\\n\")"
      ],
      "metadata": {
        "colab": {
          "base_uri": "https://localhost:8080/"
        },
        "id": "fVC2crIszteF",
        "outputId": "91970835-74ca-43f0-d315-5b44158a867a"
      },
      "execution_count": 32,
      "outputs": [
        {
          "output_type": "stream",
          "name": "stdout",
          "text": [
            "these are prediction value : tensor([[1.1313],\n",
            "        [1.1342],\n",
            "        [1.1371],\n",
            "        [1.1401],\n",
            "        [1.1430],\n",
            "        [1.1459],\n",
            "        [1.1489],\n",
            "        [1.1518],\n",
            "        [1.1547],\n",
            "        [1.1577],\n",
            "        [1.1606],\n",
            "        [1.1635],\n",
            "        [1.1665],\n",
            "        [1.1694],\n",
            "        [1.1723],\n",
            "        [1.1753],\n",
            "        [1.1782],\n",
            "        [1.1811],\n",
            "        [1.1840],\n",
            "        [1.1870]], device='cuda:0')\n",
            "\n",
            "these are real value : tensor([[1.1400],\n",
            "        [1.1430],\n",
            "        [1.1460],\n",
            "        [1.1490],\n",
            "        [1.1520],\n",
            "        [1.1550],\n",
            "        [1.1580],\n",
            "        [1.1610],\n",
            "        [1.1640],\n",
            "        [1.1670],\n",
            "        [1.1700],\n",
            "        [1.1730],\n",
            "        [1.1760],\n",
            "        [1.1790],\n",
            "        [1.1820],\n",
            "        [1.1850],\n",
            "        [1.1880],\n",
            "        [1.1910],\n",
            "        [1.1940],\n",
            "        [1.1970]], device='cuda:0')\n",
            "\n"
          ]
        }
      ]
    },
    {
      "cell_type": "code",
      "source": [
        "# Plot the predictions (these may need to be on a specific device)\n",
        "linear_plot(predictions=y_pred2.cpu())"
      ],
      "metadata": {
        "colab": {
          "base_uri": "https://localhost:8080/",
          "height": 448
        },
        "id": "9cqGUgADz4y6",
        "outputId": "ae2616ad-b0e8-4a2b-fbf4-0ff257ad6c89"
      },
      "execution_count": 33,
      "outputs": [
        {
          "output_type": "display_data",
          "data": {
            "text/plain": [
              "<Figure size 640x480 with 1 Axes>"
            ],
            "image/png": "[encoded data removed]"
          },
          "metadata": {}
        },
        {
          "output_type": "display_data",
          "data": {
            "text/plain": [
              "<Figure size 1400x1000 with 0 Axes>"
            ]
          },
          "metadata": {}
        }
      ]
    },
    {
      "cell_type": "markdown",
      "source": [
        "## save trained model"
      ],
      "metadata": {
        "id": "1-ZQ2tVw0Odz"
      }
    },
    {
      "cell_type": "code",
      "source": [
        "from pathlib import Path\n",
        "\n",
        "# 1. Create models directory\n",
        "PATH = Path(\"models\")\n",
        "PATH.mkdir(parents=True, exist_ok =True)\n",
        "\n",
        "# 2. Create model save path\n",
        "NAME = \"01_pytorch_exercise2.pth\"\n",
        "MODEL_SAVE = PATH / NAME\n",
        "\n",
        "# 3. Save the model state dict\n",
        "print(f\"saving model to {MODEL_SAVE}\")\n",
        "torch.save(obj=model_2.state_dict(),\n",
        "           f=MODEL_SAVE)"
      ],
      "metadata": {
        "colab": {
          "base_uri": "https://localhost:8080/"
        },
        "id": "tGw5nTK70DpS",
        "outputId": "3805b6bd-fe41-4ab9-ad00-06f4ebe6b87e"
      },
      "execution_count": 34,
      "outputs": [
        {
          "output_type": "stream",
          "name": "stdout",
          "text": [
            "saving model to models/01_pytorch_exercise2.pth\n"
          ]
        }
      ]
    },
    {
      "cell_type": "code",
      "source": [
        "#check saved path model\n",
        "!ls -l models/01_pytorch_exercise2.pth"
      ],
      "metadata": {
        "colab": {
          "base_uri": "https://localhost:8080/"
        },
        "id": "IqhIZkDS0U6y",
        "outputId": "eb330fab-2fc2-4f3c-f1a2-87f51b0c68f4"
      },
      "execution_count": 35,
      "outputs": [
        {
          "output_type": "stream",
          "name": "stdout",
          "text": [
            "-rw-r--r-- 1 root root 1638 Dec 26 11:21 models/01_pytorch_exercise2.pth\n"
          ]
        }
      ]
    },
    {
      "cell_type": "code",
      "source": [
        "# Create new instance of model and load saved state dict (make sure to put it on the target device)\n",
        "load_model2= LinearRegressionVer2()\n",
        "\n",
        "load_model2.load_state_dict(torch.load(f=MODEL_SAVE))\n",
        "load_model2"
      ],
      "metadata": {
        "colab": {
          "base_uri": "https://localhost:8080/"
        },
        "id": "w2kK7-Se0Z5I",
        "outputId": "9322b88b-804a-461b-ca6e-1e298b43604f"
      },
      "execution_count": 36,
      "outputs": [
        {
          "output_type": "execute_result",
          "data": {
            "text/plain": [
              "LinearRegressionVer2(\n",
              "  (Linear_layer): Linear(in_features=1, out_features=1, bias=True)\n",
              ")"
            ]
          },
          "metadata": {},
          "execution_count": 36
        }
      ]
    },
    {
      "cell_type": "code",
      "source": [
        "# Make predictions with loaded model and compare them to the previous\n",
        "load_model2.eval()\n",
        "with torch.inference_mode():\n",
        "  x_testing2 = x_test2.cpu()\n",
        "  loaded_model2 = load_model2(x_testing2)\n",
        "  loaded_model2\n",
        "\n",
        "y_pred2.cpu() == loaded_model2"
      ],
      "metadata": {
        "colab": {
          "base_uri": "https://localhost:8080/"
        },
        "id": "WBVbpcKg0a3P",
        "outputId": "469f620a-4082-4b04-e237-992f310d8365"
      },
      "execution_count": 37,
      "outputs": [
        {
          "output_type": "execute_result",
          "data": {
            "text/plain": [
              "tensor([[ True],\n",
              "        [False],\n",
              "        [ True],\n",
              "        [ True],\n",
              "        [ True],\n",
              "        [ True],\n",
              "        [ True],\n",
              "        [ True],\n",
              "        [ True],\n",
              "        [ True],\n",
              "        [ True],\n",
              "        [ True],\n",
              "        [ True],\n",
              "        [ True],\n",
              "        [ True],\n",
              "        [ True],\n",
              "        [ True],\n",
              "        [ True],\n",
              "        [ True],\n",
              "        [False]])"
            ]
          },
          "metadata": {},
          "execution_count": 37
        }
      ]
    },
    {
      "cell_type": "code",
      "source": [
        "print(f\"y_pred2 cpu \\n {y_pred2.cpu()}\")\n",
        "print(f\"loaded_model2 \\n {loaded_model2}\")"
      ],
      "metadata": {
        "colab": {
          "base_uri": "https://localhost:8080/"
        },
        "id": "2W5Ru08w1pEM",
        "outputId": "93398527-bffa-4a84-9da8-2ca3506fd985"
      },
      "execution_count": 38,
      "outputs": [
        {
          "output_type": "stream",
          "name": "stdout",
          "text": [
            "y_pred2 cpu \n",
            " tensor([[1.1313],\n",
            "        [1.1342],\n",
            "        [1.1371],\n",
            "        [1.1401],\n",
            "        [1.1430],\n",
            "        [1.1459],\n",
            "        [1.1489],\n",
            "        [1.1518],\n",
            "        [1.1547],\n",
            "        [1.1577],\n",
            "        [1.1606],\n",
            "        [1.1635],\n",
            "        [1.1665],\n",
            "        [1.1694],\n",
            "        [1.1723],\n",
            "        [1.1753],\n",
            "        [1.1782],\n",
            "        [1.1811],\n",
            "        [1.1840],\n",
            "        [1.1870]])\n",
            "loaded_model2 \n",
            " tensor([[1.1313],\n",
            "        [1.1342],\n",
            "        [1.1371],\n",
            "        [1.1401],\n",
            "        [1.1430],\n",
            "        [1.1459],\n",
            "        [1.1489],\n",
            "        [1.1518],\n",
            "        [1.1547],\n",
            "        [1.1577],\n",
            "        [1.1606],\n",
            "        [1.1635],\n",
            "        [1.1665],\n",
            "        [1.1694],\n",
            "        [1.1723],\n",
            "        [1.1753],\n",
            "        [1.1782],\n",
            "        [1.1811],\n",
            "        [1.1840],\n",
            "        [1.1870]])\n"
          ]
        }
      ]
    }
  ]
}